{
 "cells": [
  {
   "cell_type": "markdown",
   "metadata": {
    "_uuid": "2d4a696348ebc7adae125386edd1ed5388fa0298"
   },
   "source": [
    "<h1>Pierwszy projekt ML</h1>\n",
    "\n",
    "<h3>Problem regresji</h3>\n",
    "W tym notatniku przejdziemy przez podstawowe kroki załadowania, obróbki i predykcji danych. \n",
    "Kolejność kroków wykonanych w tym notatniku :\n",
    "\n",
    "1.) Analiza danych i działanie na obserwacjach\n",
    "    - Import bibliotek i danych\n",
    "    - Opis danych\n",
    "    - Znalezienie korelacji między atrybutami\n",
    "    - Pozbycie się odstających obserwacji\n",
    "    - Wprowadzenie brakujących danych\n",
    "    - Poprawienie atrybutów\n",
    "    - Dodanie atrybutów\n",
    "    \n",
    "2.) Cechy statystyczne \n",
    "    - Skośność i kurtoza\n",
    "    - Label Encoding\n",
    "    - Transformacja i skalowanie danych\n",
    "    - Wybór atrybutów\n",
    "    - Principal Component Analysis\n",
    "    \n",
    "3.) Dobór modelu i jego ocena\n",
    "    - Testowanie różnych modeli\n",
    "    - Hiperparametryzacja\n",
    "    - Łączenie modeli\n",
    "    - Predykcja"
   ]
  },
  {
   "cell_type": "code",
   "execution_count": null,
   "metadata": {},
   "outputs": [],
   "source": []
  },
  {
   "cell_type": "code",
   "execution_count": null,
   "metadata": {},
   "outputs": [],
   "source": []
  },
  {
   "cell_type": "code",
   "execution_count": null,
   "metadata": {},
   "outputs": [],
   "source": []
  },
  {
   "cell_type": "markdown",
   "metadata": {
    "_uuid": "a82eea53f3fd64eda0f064f3dc36951a7f3ae1f9"
   },
   "source": [
    "<h1>1.) Analiza danych i działania na obserwacjach </h1>"
   ]
  },
  {
   "cell_type": "markdown",
   "metadata": {
    "_uuid": "a82eea53f3fd64eda0f064f3dc36951a7f3ae1f9"
   },
   "source": [
    "<h1>Import bibliotek i danych</h1>"
   ]
  },
  {
   "cell_type": "code",
   "execution_count": null,
   "metadata": {
    "_uuid": "9ff9096edbc92c0ffca257ae73928951bc544de7"
   },
   "outputs": [],
   "source": [
    "import pandas as pd # processing danych\n",
    "import numpy as np \n",
    "import matplotlib.pyplot as plt # wykresy\n",
    "%matplotlib inline\n",
    "import seaborn as sns # wizualizacja danych\n",
    "color = sns.color_palette()\n",
    "sns.set_style('darkgrid')\n",
    "import scipy.stats as st # moduł statystyczny\n",
    "pd.options.display.max_columns = None # show all columns\n",
    "import missingno as msno # wizualizacje brakujących danych\n",
    "import warnings # ignorowanie ostrzeżeń \n",
    "warnings.filterwarnings('ignore')\n",
    "\n",
    "# Ładujemy dane testowe i treningowe do formatu DataFrame biblioteki Pandas\n",
    "\n",
    "trainData = pd.read_csv(\"C:/Users/ksmoc/OneDrive/Workspace/PycharmProjects/ML_Projects/House_Pricing/data/train.csv\")\n",
    "testData = pd.read_csv(\"C:/Users/ksmoc/OneDrive/Workspace/PycharmProjects/ML_Projects/House_Pricing/data/test.csv\")\n",
    "trainData.drop(columns = 'Id', inplace =True)\n",
    "y_train = trainData['SalePrice']"
   ]
  },
  {
   "cell_type": "markdown",
   "metadata": {
    "_uuid": "ed0632bede7e3a01dfe757b610599de83014fc34"
   },
   "source": [
    "<h1>Wstępna charakterystyka danych</h1>\n",
    "Spójrzmy na dane co mamy i jaki jest ich ogólny obraz"
   ]
  },
  {
   "cell_type": "code",
   "execution_count": null,
   "metadata": {
    "_uuid": "8ea22d699eab4bcc9b7d181a2bf0164e61a512a0"
   },
   "outputs": [],
   "source": [
    "# Kształt danych (wymiary tablic)\n",
    "trainData.shape, testData.shape, y_train.shape"
   ]
  },
  {
   "cell_type": "code",
   "execution_count": null,
   "metadata": {
    "_uuid": "d5c7a2a4717cece181f481499818398202120ec6"
   },
   "outputs": [],
   "source": [
    "# Pierwsze pięć kolumn zbioru\n",
    "trainData.head()"
   ]
  },
  {
   "cell_type": "code",
   "execution_count": null,
   "metadata": {
    "_uuid": "839b7417f336eb4592cbd2277d68fab87d6b6381"
   },
   "outputs": [],
   "source": [
    "# Ostatnie pięć kolumn zbioru\n",
    "trainData.tail()"
   ]
  },
  {
   "cell_type": "code",
   "execution_count": null,
   "metadata": {
    "_uuid": "4c6d6b2cda812e570cf7270ec0f5467979153880"
   },
   "outputs": [],
   "source": [
    "# Podstawowy opis zbioru danych\n",
    "trainData.describe()"
   ]
  },
  {
   "cell_type": "code",
   "execution_count": null,
   "metadata": {
    "_uuid": "0034b04d8dd1f4e2ed5bf432cf0bf5543cc6820b"
   },
   "outputs": [],
   "source": [
    "# Atrybuty w zbiorze danych zawierające dane numeryczne \n",
    "numerical_features = trainData.select_dtypes(include=[np.number]) \n",
    "numerical_features.columns\n",
    "\n",
    "# Atrybuty w zbiorze danych zawierające dane kategorialne\n",
    "categorical_features = trainData.select_dtypes(include=[np.object])\n",
    "categorical_features.columns"
   ]
  },
  {
   "cell_type": "markdown",
   "metadata": {
    "_uuid": "5fc916932d2b9491a2358e3f06814b49cd94a50f",
    "scrolled": true
   },
   "source": [
    "<h1>Znalezienie korelacji między atrybutami</h1>\n",
    "Spojrzymy jak się rozkładają korelacje pomiędzy poszczególnymi atrybutami"
   ]
  },
  {
   "cell_type": "code",
   "execution_count": null,
   "metadata": {
    "_uuid": "827d41628563f4c77743e0862b55d1e82d0184af"
   },
   "outputs": [],
   "source": [
    "# Spróbujemy znaleźć atrybuty posiadające największą korelacje (czyli te od których najbardziej zależy) \n",
    "# szukana przez nas wartość 'SalePrice', posortowane od największej do najmniejszej.\n",
    "\n",
    "correlation = numerical_features.corr()\n",
    "print(correlation['SalePrice'].sort_values(ascending = False))"
   ]
  },
  {
   "cell_type": "code",
   "execution_count": null,
   "metadata": {
    "_uuid": "d83ff8e4cad9e61520c477426270412998f67d30"
   },
   "outputs": [],
   "source": [
    "# Mapa cieplna korelacji atrybutów numerycznych\n",
    "f , ax = plt.subplots(figsize = (14,12))\n",
    "plt.title('Korelacja atrybutów numerycznych',size=15)\n",
    "sns.heatmap(correlation,square = True,  vmax=0.8)"
   ]
  },
  {
   "cell_type": "markdown",
   "metadata": {
    "_uuid": "733e6f6ebfe75a90046bcc219cc3c53c17398754"
   },
   "source": [
    "- Widzimy dwa białe kwadraty (2,2 and 3,3) Które wskazują na wysoką korelację. Pierwsza grupa silnie skorelowanych atrybutów to 'TotalBsmtSF' i '1stFlrSF'. Druga grupa to 'GarageYrBlt', 'GarageCars' i 'GarageArea'. To oznacza wieloliniowość.\n",
    "- Inne cztery białe kwadraty (1,1) wskazują na oczywistą korelację między 'GarageYrBlt' i 'YearBuilt' oraz między 'TotRmsAbvGrd' i 'GrLivArea'\n",
    "- Ponadto z mapy cieplnej i poprzedniej oceny korelacji odczytujemy, że'GrLivArea', 'TotalBsmtSF', 'OverallQual', 'FullBath', 'TotRmsAbvGrd' oraz 'YearBuilt' są silnie skorelowane z 'SalePrice'"
   ]
  },
  {
   "cell_type": "code",
   "execution_count": null,
   "metadata": {
    "_uuid": "d0d86a4699cdb709983c08abc41fd87b62924016"
   },
   "outputs": [],
   "source": [
    "# Zbliżenie mapy cieplnej najbardziej skorelowanych atrybutów\n",
    "zoomedCorrelation = correlation.loc[['SalePrice','GrLivArea','TotalBsmtSF','OverallQual','FullBath','TotRmsAbvGrd','YearBuilt','1stFlrSF','GarageYrBlt','GarageCars','GarageArea'], ['SalePrice','GrLivArea','TotalBsmtSF','OverallQual','FullBath','TotRmsAbvGrd','YearBuilt','1stFlrSF','GarageYrBlt','GarageCars','GarageArea']]\n",
    "f , ax = plt.subplots(figsize = (14,12))\n",
    "plt.title('Korelacja atrybutów numerycznych',size=15)\n",
    "sns.heatmap(zoomedCorrelation, square = True, linewidths=0.01, vmax=0.8, annot=True,cmap='viridis',\n",
    "            linecolor=\"black\", annot_kws = {'size':12})"
   ]
  },
  {
   "cell_type": "markdown",
   "metadata": {
    "_uuid": "662c66a3ab59f7b186073c174b7c740633017b52"
   },
   "source": [
    "Stwierdzamy, że:\n",
    "- 'TotalBsmtSF' oraz '1stFlrSF' są silnie skorelowane\n",
    "- 'TotRmsAbvGrd' oraz 'GrLivArea' są silnie skorelowane\n",
    "- 'GarageCars' oraz 'GarageArea' są silnie skorelowane\n",
    "- 'GarageYrBlt' oraz 'YearBuilt' są silnie skorelowane\n",
    "- 'TotRmsAbvGrd' oraz 'GrLivArea' są silnie skorelowane\n",
    "- 'OverallQual', 'GrLivArea' i 'TotRmsAbvGrd' są silnie skorelowane z 'SalePrice'"
   ]
  },
  {
   "cell_type": "code",
   "execution_count": null,
   "metadata": {
    "_uuid": "5ef1ee7de4088f1c747d275fb5a33ac5921ed49f",
    "scrolled": true
   },
   "outputs": [],
   "source": [
    "# Wykresy dwóch zmiennych\n",
    "sns.set()\n",
    "cols = ['SalePrice','GrLivArea','TotalBsmtSF','OverallQual','FullBath','TotRmsAbvGrd','YearBuilt','1stFlrSF','GarageYrBlt','GarageCars','GarageArea']\n",
    "sns.pairplot(trainData[cols],size = 2 ,kind ='scatter',diag_kind='kde')\n",
    "plt.show()"
   ]
  },
  {
   "cell_type": "markdown",
   "metadata": {
    "_uuid": "8098d9919d828cdf84a656f9fb3af1802786ad23"
   },
   "source": [
    "- Widzimy, że 'SalePrice' wzrasta kwadratowo wraz z wzrostem wartości 'TotalBsmtSF', 'GrLivArea', '1stFlrSF'. Wnioskujemy z tego, że cena domu zwiększa się o kwadrat przyrostu powierzchni. Ponadto widzimy, że 'SalePrice' wzrasta wykładniczo wraz z 'OverallQual'.\n",
    "- Ponadto z 'GrLivArea'-'1stFlSF' oraz '1stFlSF'-'TotalBsmSF' obserwujemy, że wszystkie punkty znajdują się powyżej lini funkcji tożsamościowej, co oznacza, że parter posiada większą powierzchnie niż którekolwiek z pięter, oraz, że pierwsze piętro jest większe niż piwnica.\n",
    "- Podobne zjawisko zachodzi dla 'GarageYrBlt'-'YearBuilt' co ma sens ponieważ przeważnie najpierw budujemy dom a dopiero następnie garaż, jednakże zachodzą tutaj pewne wyjątki w naszym zbiorze danych."
   ]
  },
  {
   "cell_type": "markdown",
   "metadata": {
    "_uuid": "ee5814221e5558f50204521048704955efc038d9"
   },
   "source": [
    "<h1>Pozbycie się odstających obserwacji</h1>\n",
    "\n",
    "Z poprzednich wykresów dwóch zmiennych widzimy kilka obserwacji odstających dla 'TotalBsmtSF', '1stFlrSF' oraz 'GrLivArea'. Skorzystamy z wykresu punktowego aby zobaczyć je bardziej dokładnie."
   ]
  },
  {
   "cell_type": "code",
   "execution_count": null,
   "metadata": {
    "_uuid": "65930a0a46dfd13edd48abcf57a51ed7bdae32f3"
   },
   "outputs": [],
   "source": [
    "plt.figure(figsize=(7,5))\n",
    "plt.scatter(x = trainData.TotalBsmtSF,y = trainData.SalePrice)\n",
    "plt.title('TotalBsmtSF', size = 15)\n",
    "plt.figure(figsize=(7,5))\n",
    "plt.scatter(x = trainData['1stFlrSF'],y = trainData.SalePrice)\n",
    "plt.title('1stFlrSF', size = 15)\n",
    "plt.figure(figsize=(7,5))\n",
    "plt.scatter(x = trainData.GrLivArea,y = trainData.SalePrice)\n",
    "plt.title('GrLivArea', size = 15)"
   ]
  },
  {
   "cell_type": "code",
   "execution_count": null,
   "metadata": {
    "_uuid": "5f2cf7d0f80198739c32fcb52188400b6e9c2ea5"
   },
   "outputs": [],
   "source": [
    "# Usuwanie obserwacji odstających\n",
    "trainData.drop(trainData[trainData['TotalBsmtSF'] > 5000].index,inplace = True)\n",
    "trainData.drop(trainData[trainData['1stFlrSF'] > 4000].index,inplace = True)\n",
    "trainData.drop(trainData[(trainData['GrLivArea'] > 4000) & (trainData['SalePrice']<300000)].index,inplace = True)\n",
    "trainData.shape"
   ]
  },
  {
   "cell_type": "markdown",
   "metadata": {
    "_uuid": "b07ef0cb20fb2bde69af7902614292542734a873"
   },
   "source": [
    "Ponieważ odrzuciliśmy tylko dwie obserwacje odstające oznacza to, że wszystkie trzy cechy dzieliły tą samą obserwację."
   ]
  },
  {
   "cell_type": "markdown",
   "metadata": {
    "_uuid": "21775dc34f04cdcdf20e100631cd96c6cc70e4bd"
   },
   "source": [
    "<h1>Wprowadzenie brakujących danych</h1>\n",
    "\n",
    "Teraz przyjrzymy się brakujących danych w naszym zbiorze.\n",
    "Będziemy korzystać z biblioteki msno (missingno). Msno zapewnia mały zestaw narzędzi do wizualizacji brakujących danych oraz funkcjonalności które pozwalają na szybkie wizualne podsumowanie kompletności danych albo jej braku w twoim zbiorze."
   ]
  },
  {
   "cell_type": "code",
   "execution_count": null,
   "metadata": {
    "_uuid": "5bbdd27fbabb40f4e65ad414f73e5856dee76791"
   },
   "outputs": [],
   "source": [
    "# Wizualizowanie brakujących wartości dla atrybutów numerycznych z próby 200 obserwacji\n",
    "msno.matrix(trainData.select_dtypes(include=[np.number]).sample(200))"
   ]
  },
  {
   "cell_type": "code",
   "execution_count": null,
   "metadata": {
    "_uuid": "4b962cdac0c83c722d68076420720f97880a0811"
   },
   "outputs": [],
   "source": [
    "# Wizualizowanie procentu brakujących wartości spośród 10 najbardziej wybrakowanych atrybutów numerycznych\n",
    "total = trainData.select_dtypes(include=[np.number]).isnull().sum().sort_values(ascending=False)\n",
    "percent = (trainData.select_dtypes(include=[np.number]).isnull().sum()/trainData.select_dtypes(include=[np.number]).isnull().count()).sort_values(ascending=False)\n",
    "missing_data = pd.concat([total, percent], axis=1,join='outer', keys=['Missing Count', 'Missing Percentage'])\n",
    "missing_data.index.name =' Numeric Feature'\n",
    "missing_data.head(10)"
   ]
  },
  {
   "cell_type": "markdown",
   "metadata": {
    "_uuid": "4e68257bbee51ef367869a62305fda0fb75fe949"
   },
   "source": [
    "We observe that 'LotFrontage', 'GarageYrBlt' and 'MasVnrArea' are the only one who have missing values"
   ]
  },
  {
   "cell_type": "code",
   "execution_count": null,
   "metadata": {
    "_uuid": "4e4c57e9f1e220bb204d14deeaae7264740dfc02"
   },
   "outputs": [],
   "source": [
    "# Wizualizacja brakujących danych z atrybutów o kategorialnych danych w próbie dwustu obserwacji.\n",
    "msno.matrix(trainData.select_dtypes(include=[np.object]).sample(200))"
   ]
  },
  {
   "cell_type": "code",
   "execution_count": null,
   "metadata": {
    "_uuid": "729e87134c4f6884881eca0dfd2632a7fe50b542"
   },
   "outputs": [],
   "source": [
    "# Wizualizacja procentowego udziału brakujących obserwacji w top dziesięciu atrybutach zawierających brakujące dane kategorialne\n",
    "total = trainData.select_dtypes(include=[np.object]).isnull().sum().sort_values(ascending=False)\n",
    "percent = (trainData.select_dtypes(include=[np.object]).isnull().sum()/trainData.select_dtypes(include=[np.object]).isnull().count()).sort_values(ascending=False)\n",
    "missing_data = pd.concat([total, percent], axis=1,join='outer', keys=['Missing Count', 'Missing Percentage'])\n",
    "missing_data.index.name =' Numeric Feature'\n",
    "missing_data.head(10)"
   ]
  },
  {
   "cell_type": "markdown",
   "metadata": {
    "_uuid": "4e73c182fabf41d2c80ccc6ea1bdf8bc073fc869"
   },
   "source": [
    "Okazuje się, że 'PoolQC', 'MiscFeature', 'Alley', 'Fence' oraz 'FireplaceQu' posiadają znaczącą ilość brakujących danych (przynajmniej połowa obserwacji)"
   ]
  },
  {
   "cell_type": "code",
   "execution_count": null,
   "metadata": {
    "_uuid": "1e1b61c4094acf40c399f1e9422ecd255ef0333c"
   },
   "outputs": [],
   "source": [
    "# Wizualizacja wybrakowania według kolumny\n",
    "msno.bar(trainData.sample(1000))"
   ]
  },
  {
   "cell_type": "code",
   "execution_count": null,
   "metadata": {
    "_uuid": "7bf3cabc506c99a6c3dfa8a62a9d673a78335eae"
   },
   "outputs": [],
   "source": [
    "# Mapa cieplna korelacji wybrakowania tz. jak bardzo obecność lub brak pewnej obserwacji wpływa na inną\n",
    "msno.heatmap(trainData)\n",
    "\n",
    "# -1 : jeżeli jedna obserwacja jest obecna drugiej na pewno nie ma\n",
    "# 0 : obecność obserwacji lub jej brak nie ma wpływu na inną obserwację  \n",
    "# 1 : jeżeli jedna obserwacja jest obecna druga na pewno też jest"
   ]
  },
  {
   "cell_type": "code",
   "execution_count": null,
   "metadata": {
    "_uuid": "0003a9c144b48e5947564ade8e645b4e0aa6338c"
   },
   "outputs": [],
   "source": [
    "# Dendrogram kompletności obserwacji, pokazuje trendy korelacyjne między obserwacjami głębsze niż te wynikające z mapy cieplnej.\n",
    "msno.dendrogram(trainData)"
   ]
  },
  {
   "cell_type": "markdown",
   "metadata": {
    "_uuid": "d66d4b26e71e56b513c61f431e665eb97cd2d6e8"
   },
   "source": [
    "Liście klastra które są połączone ze sobą z zerową odległością, w pełni określają swoją wzajemną obecność: jedna obserwacja może być zawsze pusta jeżeli druga istnieje, lub obie mogą być zawsze obecne lub puste."
   ]
  },
  {
   "cell_type": "markdown",
   "metadata": {
    "_uuid": "258bedf0317ae25d033c39c74955fc992be32476"
   },
   "source": [
    "Rozpoczniemy od zastępowania brakujących danych w zbiorach testowych i treningowych. \n",
    "W tym celu najpierw połączymy je w jeden zbiór."
   ]
  },
  {
   "cell_type": "code",
   "execution_count": null,
   "metadata": {
    "_uuid": "b8b70432addea1eedf18a4f53a56cdfa880b8314"
   },
   "outputs": [],
   "source": [
    "# Powiążemy zbiory treningowy i testowy w jeden obiekt Dataframe\n",
    "dataFull = pd.concat([trainData,testData],ignore_index=True)\n",
    "dataFull.drop('Id',axis = 1,inplace = True)\n",
    "dataFull.shape"
   ]
  },
  {
   "cell_type": "code",
   "execution_count": null,
   "metadata": {
    "_uuid": "ed11477dc4b68adf69e46ae247d17b95abcfe3f7"
   },
   "outputs": [],
   "source": [
    "# Suma brakujących obserwacji w zależności od atrybutu\n",
    "sumMissingValues = dataFull.isnull().sum()\n",
    "sumMissingValues[sumMissingValues>0].sort_values(ascending = False)"
   ]
  },
  {
   "cell_type": "code",
   "execution_count": null,
   "metadata": {
    "_uuid": "8879dc08f43263c8a541b9b4fad8745353525257"
   },
   "outputs": [],
   "source": [
    "# Atrybuty numeryczne: zastępujemy zerem. Dlaczego akurat te?\n",
    "for col in ['BsmtFullBath','BsmtHalfBath','BsmtUnfSF','TotalBsmtSF','GarageCars','BsmtFinSF2','BsmtFinSF1','GarageArea']:\n",
    "    dataFull[col].fillna(0,inplace= True)\n",
    "\n",
    "# Sprawdzamy czy udało nam się je zastąpić.\n",
    "dataFull.isnull().sum()[dataFull.isnull().sum()>0].sort_values(ascending = False)"
   ]
  },
  {
   "cell_type": "markdown",
   "metadata": {
    "_uuid": "22a5dadab1dc80097fb28f13d9c668cdce89f32b"
   },
   "source": [
    "Rozpoczniemy od atrybutów które posiadają mniej niż 5 brakujących obserwacji"
   ]
  },
  {
   "cell_type": "code",
   "execution_count": null,
   "metadata": {
    "_uuid": "a1dc53d6e043d1c5421ae997589559c40694491b"
   },
   "outputs": [],
   "source": [
    "# Atrybuty kategorialne: zastępujemy modalną (najczęściej występującą wartością)\n",
    "for col in ['MSZoning','Functional','Utilities','KitchenQual','SaleType','Exterior2nd','Exterior1st','Electrical']:\n",
    "    dataFull[col].fillna(dataFull[col].mode()[0],inplace= True)\n",
    "\n",
    "# Sprawdzamy czy udało nam się je zastąpić.\n",
    "dataFull.isnull().sum()[dataFull.isnull().sum()>0].sort_values(ascending = False)"
   ]
  },
  {
   "cell_type": "code",
   "execution_count": null,
   "metadata": {
    "_uuid": "49959c4f2b541d23f6b1f80638f1d88811afc523"
   },
   "outputs": [],
   "source": [
    "# Przypisujemy atrybuty które posiadają więcej niż 5 brakujących obserwacji.\n",
    "\n",
    "# Dane kategorialne: Zmieniamy wszystkie na \"None\"\n",
    "for col in ['PoolQC','MiscFeature','Alley','Fence','FireplaceQu','GarageQual','GarageCond','GarageFinish','GarageType','BsmtExposure','BsmtCond','BsmtQual','BsmtFinType2','BsmtFinType1','MasVnrType']:\n",
    "    dataFull[col].fillna('None',inplace = True)\n",
    "\n",
    "# Sprawdzamy czy udało nam się je zastąpić.\n",
    "dataFull.isnull().sum()[dataFull.isnull().sum()>0].sort_values(ascending = False)"
   ]
  },
  {
   "cell_type": "markdown",
   "metadata": {
    "_uuid": "432c8b82e92c1a69cbd60b2a6b794d9e59fcd00c"
   },
   "source": [
    "Ponieważ 'MasVnrArea' posiada tylko 23 brakujące obserwacje, możemy zastąpić je średnią dla kolumny."
   ]
  },
  {
   "cell_type": "code",
   "execution_count": null,
   "metadata": {
    "_uuid": "42df6bc540f462d5a953b1271ec4a1bb8ee54a87"
   },
   "outputs": [],
   "source": [
    "dataFull['MasVnrArea'].fillna(dataFull['MasVnrArea'].mean(), inplace=True)\n",
    "\n",
    "# Sprawdzamy czy udało nam się je zastąpić.\n",
    "dataFull.isnull().sum()[dataFull.isnull().sum()>0].sort_values(ascending = False)"
   ]
  },
  {
   "cell_type": "markdown",
   "metadata": {
    "_uuid": "4c8bce62652c1da6aa6162af793a27c30c9d29de"
   },
   "source": [
    "Bazując na mapie cieplnej korelacji wiemy, że 'GarageYrBlt' jest silnie skorelowane z 'YearBuilt'. Z tego powodu zastąpimy brakujące wartości medianami z 'YearBuilt'. \n",
    "\n",
    "Z tego względu iż atrybut 'YearBuilt' zawiera dane numeryczne musimy podzielić go na przedziały."
   ]
  },
  {
   "cell_type": "code",
   "execution_count": null,
   "metadata": {
    "_uuid": "80ed1605561a318eaa11710470a98a25f495f72b"
   },
   "outputs": [],
   "source": [
    "# Dzielimy 'YearBuilt' na 10 przedziałów\n",
    "dataFull['YearBuiltCut'] = pd.qcut(dataFull.YearBuilt,10)\n",
    "# Zastąpienie brakujących obserwacji atrybutu 'GarageYrBlt' bazując na medianie atrybutu 'YearBuilt' \n",
    "dataFull['GarageYrBlt']= dataFull.groupby(['YearBuiltCut'])['GarageYrBlt'].transform(lambda x : x.fillna(x.median()))\n",
    "# Rzutowanie typu na liczbowy (int)\n",
    "dataFull['GarageYrBlt'] = dataFull['GarageYrBlt'].astype(int)\n",
    "# Usuwamy kolumnę 'YearBuiltCut'\n",
    "dataFull.drop('YearBuiltCut',axis=1,inplace=True)\n",
    "# # Sprawdzamy czy udało nam się zastąpić brakujące obserwacje.\n",
    "dataFull.isnull().sum()[dataFull.isnull().sum()>0].sort_values(ascending = False)"
   ]
  },
  {
   "cell_type": "markdown",
   "metadata": {
    "_uuid": "8a458b6a14f7d5ad5efb4f05a88a50a1ad6bc3a6"
   },
   "source": [
    "Na podstawie mapy cieplnej korelacji wiemy że, 'LotFrontage' jest silnie skorelowane z 'LotArea' oraz 'Neighbourhood'. \n",
    "Dokonamy tego samego co w przypadku 'YearBuilt'"
   ]
  },
  {
   "cell_type": "code",
   "execution_count": null,
   "metadata": {
    "_uuid": "7b410ffb9b83df27ba91cd48aa95bc31c9cd670e"
   },
   "outputs": [],
   "source": [
    "# Dzielimy atrybut 'LotArea' na 10 przedziałów\n",
    "dataFull['LotAreaCut'] = pd.qcut(dataFull.LotArea,10)\n",
    "\n",
    "# Zastępujemy brakujące obserwacje atrybutu 'LotFrontage' opierając się na medianie atrybutów 'LotArea' oraz 'Neighbourhood'\n",
    "dataFull['LotFrontage']= dataFull.groupby(['LotAreaCut','Neighborhood'])['LotFrontage'].transform(lambda x : x.fillna(x.median()))\n",
    "dataFull['LotFrontage']= dataFull.groupby(['LotAreaCut'])['LotFrontage'].transform(lambda x : x.fillna(x.median()))\n",
    "\n",
    "# Usuwamy kolumnę 'LotAreaCut'\n",
    "dataFull.drop('LotAreaCut',axis=1,inplace=True)\n",
    "\n",
    "# Sprawdzamy czy udało nam się zastąpić brakujące obserwacje.\n",
    "dataFull.isnull().sum()[dataFull.isnull().sum()>0].sort_values(ascending = False)"
   ]
  },
  {
   "cell_type": "markdown",
   "metadata": {
    "_uuid": "aa810252be324846d80c9176a3b8cc46ff089186"
   },
   "source": [
    "Jedyne pozostałe brakujące obserwacje należą do atrybutu 'Sale price', który odzwierciedla liczbę obserwacji z testowego zbioru danych, które musimy przewidzieć."
   ]
  },
  {
   "cell_type": "markdown",
   "metadata": {
    "_uuid": "4b401eed6bdfab152ef798a8e3c7a9985ca13f91"
   },
   "source": [
    "<h1>Poprawianie atrybutów</h1>\n",
    "\n",
    "Jeżeli spojrzymy na zmienne numeryczne zouważymy, że część z nich nie ma sensu aby była numeryczna, tak jak atrybuty związane z datami. Spójrzmy na nie w pliku opisującym dane i zobaczmy które powinnismy zmienic na kategorialne."
   ]
  },
  {
   "cell_type": "code",
   "execution_count": null,
   "metadata": {
    "_uuid": "fb6ff2bc808748a0e6139e0534beacddfb035b15"
   },
   "outputs": [],
   "source": [
    "dataFull.select_dtypes(include=[np.number]).columns"
   ]
  },
  {
   "cell_type": "code",
   "execution_count": null,
   "metadata": {
    "_uuid": "a92b0609c827750d6c5a9b234996a82773146c58"
   },
   "outputs": [],
   "source": [
    "# Konwersja zmiennych numerycznych na kategorialne\n",
    "strCols = ['YrSold','YearRemodAdd','YearBuilt','MoSold','MSSubClass','GarageYrBlt']\n",
    "for i in strCols:\n",
    "    dataFull[i]=dataFull[i].astype(str)"
   ]
  },
  {
   "cell_type": "markdown",
   "metadata": {
    "_uuid": "3d96f82c952e3da9f69fbcd9ce6714b10ae7751c"
   },
   "source": [
    "<h1> Dodawanie atrybutów </h1>\n",
    "\n",
    "Po pierwsze będziemy mapować zmienne kategorialne tak aby tworzyły swojego rodzaju ranking wyrażony w liczbach całkowitych."
   ]
  },
  {
   "cell_type": "code",
   "execution_count": null,
   "metadata": {
    "_uuid": "2bcf072c4469f089d17f8ec2fb29ea1ad13923ae"
   },
   "outputs": [],
   "source": [
    "dataFull.select_dtypes(include=[np.object]).columns"
   ]
  },
  {
   "cell_type": "code",
   "execution_count": null,
   "metadata": {
    "_uuid": "de518dcf63db554aa5bc645b4df6123918f0ed9a"
   },
   "outputs": [],
   "source": [
    "dataFull[\"oExterQual\"] = dataFull.ExterQual.map({'Fa':1, 'TA':2, 'Gd':3, 'Ex':4})\n",
    "dataFull[\"oBsmtQual\"] = dataFull.BsmtQual.map({'None':1, 'Fa':2, 'TA':3, 'Gd':4, 'Ex':5})\n",
    "dataFull[\"oBsmtExposure\"] = dataFull.BsmtExposure.map({'None':1, 'No':2, 'Av':3, 'Mn':3, 'Gd':4})\n",
    "dataFull[\"oHeatingQC\"] = dataFull.HeatingQC.map({'Po':1, 'Fa':2, 'TA':3, 'Gd':4, 'Ex':5})\n",
    "dataFull[\"oKitchenQual\"] = dataFull.KitchenQual.map({'Fa':1, 'TA':2, 'Gd':3, 'Ex':4})\n",
    "dataFull[\"oFireplaceQu\"] = dataFull.FireplaceQu.map({'None':1, 'Po':2, 'Fa':3, 'TA':4, 'Gd':5, 'Ex':6})\n",
    "dataFull[\"oGarageFinish\"] = dataFull.GarageFinish.map({'None':1, 'Unf':2, 'RFn':3, 'Fin':4})\n",
    "dataFull[\"oPavedDrive\"] = dataFull.PavedDrive.map({'N':1, 'P':2, 'Y':3})"
   ]
  },
  {
   "cell_type": "markdown",
   "metadata": {
    "_uuid": "641998bc7f20ff6d6d56ae7d88c232be45de4440"
   },
   "source": [
    "Następnie dodamy kilka atrybutów numerycznych do siebie, tak aby stworzyć nowe atrybuty, które miały by sens."
   ]
  },
  {
   "cell_type": "code",
   "execution_count": null,
   "metadata": {
    "_uuid": "7cc5a42e0dd33fbe3de7a422e63a0647dd5fbf51"
   },
   "outputs": [],
   "source": [
    "dataFull.select_dtypes(include=[np.number]).columns"
   ]
  },
  {
   "cell_type": "code",
   "execution_count": null,
   "metadata": {
    "_uuid": "ce90331007d43c7c910fde509a01b114f65f9b34"
   },
   "outputs": [],
   "source": [
    "dataFull['HouseSF'] = dataFull['1stFlrSF'] + dataFull['2ndFlrSF'] + dataFull['TotalBsmtSF']\n",
    "dataFull['PorchSF'] = dataFull['3SsnPorch'] + dataFull['EnclosedPorch'] + dataFull['OpenPorchSF'] + dataFull['ScreenPorch']\n",
    "dataFull['TotalSF'] = dataFull['HouseSF'] + dataFull['PorchSF'] + dataFull['GarageArea']"
   ]
  }
 ],
 "metadata": {
  "kernelspec": {
   "display_name": "Python 3",
   "language": "python",
   "name": "python3"
  },
  "language_info": {
   "codemirror_mode": {
    "name": "ipython",
    "version": 3
   },
   "file_extension": ".py",
   "mimetype": "text/x-python",
   "name": "python",
   "nbconvert_exporter": "python",
   "pygments_lexer": "ipython3",
   "version": "3.7.0"
  }
 },
 "nbformat": 4,
 "nbformat_minor": 1
}

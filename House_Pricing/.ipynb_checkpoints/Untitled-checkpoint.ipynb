{
 "cells": [
  {
   "cell_type": "code",
   "execution_count": 1,
   "metadata": {},
   "outputs": [
    {
     "data": {
      "text/html": [
       "<div>\n",
       "<style scoped>\n",
       "    .dataframe tbody tr th:only-of-type {\n",
       "        vertical-align: middle;\n",
       "    }\n",
       "\n",
       "    .dataframe tbody tr th {\n",
       "        vertical-align: top;\n",
       "    }\n",
       "\n",
       "    .dataframe thead th {\n",
       "        text-align: right;\n",
       "    }\n",
       "</style>\n",
       "<table border=\"1\" class=\"dataframe\">\n",
       "  <thead>\n",
       "    <tr style=\"text-align: right;\">\n",
       "      <th></th>\n",
       "      <th>0</th>\n",
       "      <th>1</th>\n",
       "      <th>2</th>\n",
       "      <th>3</th>\n",
       "      <th>4</th>\n",
       "      <th>5</th>\n",
       "      <th>6</th>\n",
       "      <th>7</th>\n",
       "      <th>8</th>\n",
       "      <th>9</th>\n",
       "      <th>...</th>\n",
       "      <th>77</th>\n",
       "      <th>78</th>\n",
       "      <th>79</th>\n",
       "      <th>80</th>\n",
       "      <th>81</th>\n",
       "      <th>82</th>\n",
       "      <th>83</th>\n",
       "      <th>84</th>\n",
       "      <th>85</th>\n",
       "      <th>86</th>\n",
       "    </tr>\n",
       "  </thead>\n",
       "  <tbody>\n",
       "    <tr>\n",
       "      <th>0</th>\n",
       "      <td>2.100630</td>\n",
       "      <td>-1.498312</td>\n",
       "      <td>-0.760401</td>\n",
       "      <td>-1.020906</td>\n",
       "      <td>-0.102112</td>\n",
       "      <td>1.164100</td>\n",
       "      <td>0.253892</td>\n",
       "      <td>0.329233</td>\n",
       "      <td>-1.090543</td>\n",
       "      <td>-0.441159</td>\n",
       "      <td>...</td>\n",
       "      <td>0.194996</td>\n",
       "      <td>0.276174</td>\n",
       "      <td>-0.015636</td>\n",
       "      <td>0.159196</td>\n",
       "      <td>0.091581</td>\n",
       "      <td>-0.053092</td>\n",
       "      <td>0.072176</td>\n",
       "      <td>-0.048872</td>\n",
       "      <td>0.134409</td>\n",
       "      <td>-0.000741</td>\n",
       "    </tr>\n",
       "    <tr>\n",
       "      <th>1</th>\n",
       "      <td>0.316553</td>\n",
       "      <td>0.130393</td>\n",
       "      <td>-0.440037</td>\n",
       "      <td>0.996705</td>\n",
       "      <td>-0.602705</td>\n",
       "      <td>-1.017998</td>\n",
       "      <td>0.253706</td>\n",
       "      <td>-2.589422</td>\n",
       "      <td>0.239739</td>\n",
       "      <td>-0.691781</td>\n",
       "      <td>...</td>\n",
       "      <td>0.188831</td>\n",
       "      <td>-0.325331</td>\n",
       "      <td>0.059818</td>\n",
       "      <td>-0.101098</td>\n",
       "      <td>-0.319041</td>\n",
       "      <td>-0.013286</td>\n",
       "      <td>-0.042878</td>\n",
       "      <td>0.001511</td>\n",
       "      <td>-0.067815</td>\n",
       "      <td>-0.024583</td>\n",
       "    </tr>\n",
       "    <tr>\n",
       "      <th>2</th>\n",
       "      <td>2.788372</td>\n",
       "      <td>-1.065545</td>\n",
       "      <td>-0.408630</td>\n",
       "      <td>-0.784524</td>\n",
       "      <td>-0.140698</td>\n",
       "      <td>0.722550</td>\n",
       "      <td>0.325363</td>\n",
       "      <td>-0.029603</td>\n",
       "      <td>-1.378375</td>\n",
       "      <td>-0.795478</td>\n",
       "      <td>...</td>\n",
       "      <td>-0.055195</td>\n",
       "      <td>0.325072</td>\n",
       "      <td>-0.071244</td>\n",
       "      <td>-0.005206</td>\n",
       "      <td>0.279486</td>\n",
       "      <td>-0.137362</td>\n",
       "      <td>0.077224</td>\n",
       "      <td>0.047066</td>\n",
       "      <td>0.032160</td>\n",
       "      <td>-0.022892</td>\n",
       "    </tr>\n",
       "    <tr>\n",
       "      <th>3</th>\n",
       "      <td>-1.463595</td>\n",
       "      <td>-0.129416</td>\n",
       "      <td>4.574085</td>\n",
       "      <td>-1.985053</td>\n",
       "      <td>0.806018</td>\n",
       "      <td>-0.164609</td>\n",
       "      <td>-0.094635</td>\n",
       "      <td>0.208667</td>\n",
       "      <td>-0.520165</td>\n",
       "      <td>-1.007278</td>\n",
       "      <td>...</td>\n",
       "      <td>-0.536525</td>\n",
       "      <td>-0.445953</td>\n",
       "      <td>-0.514194</td>\n",
       "      <td>-0.099693</td>\n",
       "      <td>-0.154439</td>\n",
       "      <td>0.286513</td>\n",
       "      <td>-0.064675</td>\n",
       "      <td>0.094251</td>\n",
       "      <td>-0.088926</td>\n",
       "      <td>0.259124</td>\n",
       "    </tr>\n",
       "    <tr>\n",
       "      <th>4</th>\n",
       "      <td>4.438474</td>\n",
       "      <td>-0.423177</td>\n",
       "      <td>0.782905</td>\n",
       "      <td>-0.294955</td>\n",
       "      <td>-0.756698</td>\n",
       "      <td>1.312985</td>\n",
       "      <td>0.023571</td>\n",
       "      <td>0.002962</td>\n",
       "      <td>-0.867019</td>\n",
       "      <td>-1.124634</td>\n",
       "      <td>...</td>\n",
       "      <td>0.055089</td>\n",
       "      <td>-0.236964</td>\n",
       "      <td>0.097348</td>\n",
       "      <td>0.127978</td>\n",
       "      <td>-0.148104</td>\n",
       "      <td>0.201953</td>\n",
       "      <td>-0.267945</td>\n",
       "      <td>-0.080833</td>\n",
       "      <td>-0.064055</td>\n",
       "      <td>0.053402</td>\n",
       "    </tr>\n",
       "  </tbody>\n",
       "</table>\n",
       "<p>5 rows × 87 columns</p>\n",
       "</div>"
      ],
      "text/plain": [
       "          0         1         2         3         4         5         6  \\\n",
       "0  2.100630 -1.498312 -0.760401 -1.020906 -0.102112  1.164100  0.253892   \n",
       "1  0.316553  0.130393 -0.440037  0.996705 -0.602705 -1.017998  0.253706   \n",
       "2  2.788372 -1.065545 -0.408630 -0.784524 -0.140698  0.722550  0.325363   \n",
       "3 -1.463595 -0.129416  4.574085 -1.985053  0.806018 -0.164609 -0.094635   \n",
       "4  4.438474 -0.423177  0.782905 -0.294955 -0.756698  1.312985  0.023571   \n",
       "\n",
       "          7         8         9    ...           77        78        79  \\\n",
       "0  0.329233 -1.090543 -0.441159    ...     0.194996  0.276174 -0.015636   \n",
       "1 -2.589422  0.239739 -0.691781    ...     0.188831 -0.325331  0.059818   \n",
       "2 -0.029603 -1.378375 -0.795478    ...    -0.055195  0.325072 -0.071244   \n",
       "3  0.208667 -0.520165 -1.007278    ...    -0.536525 -0.445953 -0.514194   \n",
       "4  0.002962 -0.867019 -1.124634    ...     0.055089 -0.236964  0.097348   \n",
       "\n",
       "         80        81        82        83        84        85        86  \n",
       "0  0.159196  0.091581 -0.053092  0.072176 -0.048872  0.134409 -0.000741  \n",
       "1 -0.101098 -0.319041 -0.013286 -0.042878  0.001511 -0.067815 -0.024583  \n",
       "2 -0.005206  0.279486 -0.137362  0.077224  0.047066  0.032160 -0.022892  \n",
       "3 -0.099693 -0.154439  0.286513 -0.064675  0.094251 -0.088926  0.259124  \n",
       "4  0.127978 -0.148104  0.201953 -0.267945 -0.080833 -0.064055  0.053402  \n",
       "\n",
       "[5 rows x 87 columns]"
      ]
     },
     "execution_count": 1,
     "metadata": {},
     "output_type": "execute_result"
    }
   ],
   "source": [
    "import pandas as pd \n",
    "import numpy as np\n",
    "\n",
    "X = pd.read_csv('X.csv')\n",
    "y = pd.read_csv('y.csv')\n",
    "\n",
    "X.head()"
   ]
  },
  {
   "cell_type": "code",
   "execution_count": null,
   "metadata": {},
   "outputs": [],
   "source": [
    "X.describe()"
   ]
  },
  {
   "cell_type": "code",
   "execution_count": 2,
   "metadata": {},
   "outputs": [],
   "source": [
    "y = y.values.ravel()"
   ]
  },
  {
   "cell_type": "code",
   "execution_count": null,
   "metadata": {},
   "outputs": [],
   "source": [
    "from sklearn.model_selection import train_test_split\n",
    "\n",
    "X_train, X_test, y_train, y_test = train_test_split(X, y, test_size = 0.2)"
   ]
  },
  {
   "cell_type": "code",
   "execution_count": 3,
   "metadata": {},
   "outputs": [],
   "source": [
    "from sklearn.ensemble import RandomForestRegressor\n",
    "from sklearn.metrics import mean_squared_error\n",
    "\n",
    "clf = RandomForestRegressor()\n",
    "# clf.fit(X_train, y_train)\n",
    "# y_pred = clf.predict(X_test)"
   ]
  },
  {
   "cell_type": "code",
   "execution_count": null,
   "metadata": {},
   "outputs": [],
   "source": [
    "# mse = mean_squared_error(y_test, y_pred)\n",
    "# std_dev = np.sqrt(mse)\n",
    "# std_dev"
   ]
  },
  {
   "cell_type": "code",
   "execution_count": 4,
   "metadata": {},
   "outputs": [
    {
     "data": {
      "text/plain": [
       "array([ 0.14137744,  0.14961896,  0.15372718,  0.14700184,  0.15125991])"
      ]
     },
     "execution_count": 4,
     "metadata": {},
     "output_type": "execute_result"
    }
   ],
   "source": [
    "from sklearn.model_selection import cross_val_score\n",
    "\n",
    "def rmse(model, X, y):\n",
    "    rmse = np.sqrt(-cross_val_score(model, X, y, scoring='neg_mean_squared_error', cv = 5))\n",
    "    return rmse\n",
    "\n",
    "score = rmse(clf, X, y)\n",
    "score"
   ]
  },
  {
   "cell_type": "code",
   "execution_count": 5,
   "metadata": {},
   "outputs": [
    {
     "data": {
      "text/plain": [
       "0.14859706732109165"
      ]
     },
     "execution_count": 5,
     "metadata": {},
     "output_type": "execute_result"
    }
   ],
   "source": [
    "score.mean()"
   ]
  },
  {
   "cell_type": "code",
   "execution_count": 6,
   "metadata": {},
   "outputs": [
    {
     "data": {
      "text/plain": [
       "0.0042218698546308319"
      ]
     },
     "execution_count": 6,
     "metadata": {},
     "output_type": "execute_result"
    }
   ],
   "source": [
    "score.std()"
   ]
  },
  {
   "cell_type": "code",
   "execution_count": null,
   "metadata": {},
   "outputs": [],
   "source": []
  }
 ],
 "metadata": {
  "kernelspec": {
   "display_name": "Python 3",
   "language": "python",
   "name": "python3"
  },
  "language_info": {
   "codemirror_mode": {
    "name": "ipython",
    "version": 3
   },
   "file_extension": ".py",
   "mimetype": "text/x-python",
   "name": "python",
   "nbconvert_exporter": "python",
   "pygments_lexer": "ipython3",
   "version": "3.7.0"
  }
 },
 "nbformat": 4,
 "nbformat_minor": 2
}
